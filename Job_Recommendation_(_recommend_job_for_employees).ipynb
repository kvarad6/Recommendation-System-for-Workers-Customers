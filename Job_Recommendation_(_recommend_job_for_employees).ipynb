{
  "nbformat": 4,
  "nbformat_minor": 0,
  "metadata": {
    "kernelspec": {
      "display_name": "Python 3",
      "language": "python",
      "name": "python3"
    },
    "language_info": {
      "codemirror_mode": {
        "name": "ipython",
        "version": 3
      },
      "file_extension": ".py",
      "mimetype": "text/x-python",
      "name": "python",
      "nbconvert_exporter": "python",
      "pygments_lexer": "ipython3",
      "version": "3.7.1"
    },
    "colab": {
      "name": "Job Recommendation ( recommend job for employees).ipynb",
      "provenance": [],
      "collapsed_sections": [],
      "include_colab_link": true
    }
  },
  "cells": [
    {
      "cell_type": "markdown",
      "metadata": {
        "id": "view-in-github",
        "colab_type": "text"
      },
      "source": [
        "<a href=\"https://colab.research.google.com/github/kvarad6/Recommendation-System-for-Workers-Customers/blob/main/Job_Recommendation_(_recommend_job_for_employees).ipynb\" target=\"_parent\"><img src=\"https://colab.research.google.com/assets/colab-badge.svg\" alt=\"Open In Colab\"/></a>"
      ]
    },
    {
      "cell_type": "code",
      "metadata": {
        "id": "zAEffMGvriP6"
      },
      "source": [
        "import pandas as pd"
      ],
      "execution_count": 1,
      "outputs": []
    },
    {
      "cell_type": "code",
      "metadata": {
        "id": "kQbBHSRbriP-"
      },
      "source": [
        "import numpy as np"
      ],
      "execution_count": 2,
      "outputs": []
    },
    {
      "cell_type": "code",
      "metadata": {
        "id": "CoSGgIOHriP_"
      },
      "source": [
        "from sklearn.metrics.pairwise import cosine_similarity"
      ],
      "execution_count": 3,
      "outputs": []
    },
    {
      "cell_type": "code",
      "metadata": {
        "id": "1RHCO2fXriP_"
      },
      "source": [
        "from sklearn.feature_extraction.text import CountVectorizer"
      ],
      "execution_count": 4,
      "outputs": []
    },
    {
      "cell_type": "code",
      "metadata": {
        "id": "Gd1n4QaHuUW1"
      },
      "source": [
        "df=pd.read_csv(r\"/Final_data.csv\")"
      ],
      "execution_count": 15,
      "outputs": []
    },
    {
      "cell_type": "code",
      "metadata": {
        "scrolled": true,
        "colab": {
          "base_uri": "https://localhost:8080/",
          "height": 357
        },
        "id": "E07vZMtpriQB",
        "outputId": "6a47f8b6-ae41-4836-e03b-892b3b732482"
      },
      "source": [
        "df.head(10)"
      ],
      "execution_count": 16,
      "outputs": [
        {
          "output_type": "execute_result",
          "data": {
            "text/html": [
              "<div>\n",
              "<style scoped>\n",
              "    .dataframe tbody tr th:only-of-type {\n",
              "        vertical-align: middle;\n",
              "    }\n",
              "\n",
              "    .dataframe tbody tr th {\n",
              "        vertical-align: top;\n",
              "    }\n",
              "\n",
              "    .dataframe thead th {\n",
              "        text-align: right;\n",
              "    }\n",
              "</style>\n",
              "<table border=\"1\" class=\"dataframe\">\n",
              "  <thead>\n",
              "    <tr style=\"text-align: right;\">\n",
              "      <th></th>\n",
              "      <th>Name</th>\n",
              "      <th>Job title</th>\n",
              "      <th>Skills</th>\n",
              "      <th>Location</th>\n",
              "    </tr>\n",
              "  </thead>\n",
              "  <tbody>\n",
              "    <tr>\n",
              "      <th>0</th>\n",
              "      <td>Tanny Fomichkin</td>\n",
              "      <td>Locksmith</td>\n",
              "      <td>lock and security mechanism</td>\n",
              "      <td>Epinal</td>\n",
              "    </tr>\n",
              "    <tr>\n",
              "      <th>1</th>\n",
              "      <td>Clary Lowbridge</td>\n",
              "      <td>washing machine</td>\n",
              "      <td>all types of washing machines</td>\n",
              "      <td>Meitang</td>\n",
              "    </tr>\n",
              "    <tr>\n",
              "      <th>2</th>\n",
              "      <td>Lin Elvins</td>\n",
              "      <td>care taker</td>\n",
              "      <td>taking care of old people and small children</td>\n",
              "      <td>Luoyang</td>\n",
              "    </tr>\n",
              "    <tr>\n",
              "      <th>3</th>\n",
              "      <td>Cordula Gowans</td>\n",
              "      <td>web developer</td>\n",
              "      <td>design and build website</td>\n",
              "      <td>Stockholm</td>\n",
              "    </tr>\n",
              "    <tr>\n",
              "      <th>4</th>\n",
              "      <td>Accenture</td>\n",
              "      <td>architect</td>\n",
              "      <td>design new buildings</td>\n",
              "      <td>Donji Dobri</td>\n",
              "    </tr>\n",
              "    <tr>\n",
              "      <th>5</th>\n",
              "      <td>Alla Drewery</td>\n",
              "      <td>sweeper</td>\n",
              "      <td>cleaning and maintaining house</td>\n",
              "      <td>Wichit</td>\n",
              "    </tr>\n",
              "    <tr>\n",
              "      <th>6</th>\n",
              "      <td>kinesis management consultant Pvt.Ltd</td>\n",
              "      <td>Plumber</td>\n",
              "      <td>install and repair pipes</td>\n",
              "      <td>Yanjiang</td>\n",
              "    </tr>\n",
              "    <tr>\n",
              "      <th>7</th>\n",
              "      <td>Portie Bellie</td>\n",
              "      <td>barber</td>\n",
              "      <td>hair cutting</td>\n",
              "      <td>Kondoa</td>\n",
              "    </tr>\n",
              "    <tr>\n",
              "      <th>8</th>\n",
              "      <td>Jemima Gorst</td>\n",
              "      <td>cleaning worker</td>\n",
              "      <td>cleaning</td>\n",
              "      <td>Rczna</td>\n",
              "    </tr>\n",
              "    <tr>\n",
              "      <th>9</th>\n",
              "      <td>Atkins global</td>\n",
              "      <td>Locksmith</td>\n",
              "      <td>lock and security mechanism</td>\n",
              "      <td>Wujiao</td>\n",
              "    </tr>\n",
              "  </tbody>\n",
              "</table>\n",
              "</div>"
            ],
            "text/plain": [
              "                                    Name  ...     Location\n",
              "0                        Tanny Fomichkin  ...       Epinal\n",
              "1                        Clary Lowbridge  ...      Meitang\n",
              "2                             Lin Elvins  ...      Luoyang\n",
              "3                         Cordula Gowans  ...    Stockholm\n",
              "4                              Accenture  ...  Donji Dobri\n",
              "5                           Alla Drewery  ...       Wichit\n",
              "6  kinesis management consultant Pvt.Ltd  ...     Yanjiang\n",
              "7                          Portie Bellie  ...       Kondoa\n",
              "8                           Jemima Gorst  ...        Rczna\n",
              "9                          Atkins global  ...       Wujiao\n",
              "\n",
              "[10 rows x 4 columns]"
            ]
          },
          "metadata": {
            "tags": []
          },
          "execution_count": 16
        }
      ]
    },
    {
      "cell_type": "code",
      "metadata": {
        "id": "DBDKhTDmriQC"
      },
      "source": [
        "df['Job title']=df['Job title'].str.strip()\n",
        "df['Job title']=df['Job title'].str.lower()\n",
        "df['Skills']=df['Skills'].str.strip()\n",
        "df['Skills']=df['Skills'].str.lower()\n"
      ],
      "execution_count": 18,
      "outputs": []
    },
    {
      "cell_type": "code",
      "metadata": {
        "id": "yUOtq_clriQD"
      },
      "source": [
        "from sklearn.feature_extraction.text import TfidfVectorizer\n",
        "\n",
        "tfv=TfidfVectorizer(min_df=3, max_features=None,\n",
        "                   strip_accents='unicode',analyzer='word',token_pattern=r'\\w{1,}\\S',\n",
        "                   ngram_range=(1,3),\n",
        "                   stop_words='english')\n",
        "df['Job title']=df['Job title'].fillna('')\n",
        "df['Skills']=df['Skills'].fillna('')\n",
        "df['Job']=df['Job title']+df['Skills']"
      ],
      "execution_count": 19,
      "outputs": []
    },
    {
      "cell_type": "code",
      "metadata": {
        "id": "0_MQiy7wriQE"
      },
      "source": [
        "tfv_matrix=tfv.fit_transform(df['Job'])"
      ],
      "execution_count": 20,
      "outputs": []
    },
    {
      "cell_type": "code",
      "metadata": {
        "colab": {
          "base_uri": "https://localhost:8080/"
        },
        "id": "G2YlxMySriQE",
        "outputId": "50bca59a-19bf-48ae-81b3-6a37f81bb892"
      },
      "source": [
        "tfv_matrix"
      ],
      "execution_count": 21,
      "outputs": [
        {
          "output_type": "execute_result",
          "data": {
            "text/plain": [
              "<468x209 sparse matrix of type '<class 'numpy.float64'>'\n",
              "\twith 3429 stored elements in Compressed Sparse Row format>"
            ]
          },
          "metadata": {
            "tags": []
          },
          "execution_count": 21
        }
      ]
    },
    {
      "cell_type": "code",
      "metadata": {
        "id": "ho7gokUDriQF"
      },
      "source": [
        "from sklearn.metrics.pairwise import sigmoid_kernel\n",
        "\n",
        "sig=sigmoid_kernel(tfv_matrix,tfv_matrix)"
      ],
      "execution_count": 22,
      "outputs": []
    },
    {
      "cell_type": "code",
      "metadata": {
        "colab": {
          "base_uri": "https://localhost:8080/"
        },
        "id": "2_K_7Zf0riQF",
        "outputId": "f4bcbea5-bf07-490e-8093-d4a976eb0cee"
      },
      "source": [
        "sig[0]"
      ],
      "execution_count": 23,
      "outputs": [
        {
          "output_type": "execute_result",
          "data": {
            "text/plain": [
              "array([0.76359629, 0.76159416, 0.76159416, 0.76159416, 0.76159416,\n",
              "       0.76159416, 0.76159416, 0.76159416, 0.76159416, 0.76359629,\n",
              "       0.76359629, 0.76159416, 0.76159416, 0.76159416, 0.76359629,\n",
              "       0.76159416, 0.76359629, 0.76159416, 0.76159416, 0.76359629,\n",
              "       0.76159416, 0.76359629, 0.76159416, 0.76159416, 0.76159416,\n",
              "       0.76159416, 0.76159416, 0.76159416, 0.76159416, 0.76159416,\n",
              "       0.76159416, 0.76159416, 0.76159416, 0.76159416, 0.76159416,\n",
              "       0.76159416, 0.76159416, 0.76159416, 0.76159416, 0.76159416,\n",
              "       0.76159416, 0.76159416, 0.76159416, 0.76159416, 0.76159416,\n",
              "       0.76159416, 0.76159416, 0.76159416, 0.76159416, 0.76159416,\n",
              "       0.76159416, 0.76159416, 0.76159416, 0.76159416, 0.76159416,\n",
              "       0.76159416, 0.76159416, 0.76159416, 0.76159416, 0.76159416,\n",
              "       0.76159416, 0.76159416, 0.76159416, 0.76159416, 0.76159416,\n",
              "       0.76159416, 0.76159416, 0.76159416, 0.76159416, 0.76159416,\n",
              "       0.76159416, 0.76159416, 0.76159416, 0.76159416, 0.76159416,\n",
              "       0.76159416, 0.76159416, 0.76159416, 0.76159416, 0.76159416,\n",
              "       0.76159416, 0.76159416, 0.76159416, 0.76159416, 0.76159416,\n",
              "       0.76159416, 0.76159416, 0.76159416, 0.76159416, 0.76159416,\n",
              "       0.76159416, 0.76159416, 0.76159416, 0.76159416, 0.76159416,\n",
              "       0.76359629, 0.76159416, 0.76159416, 0.76159416, 0.76159416,\n",
              "       0.76159416, 0.76159416, 0.76159416, 0.76159416, 0.76159416,\n",
              "       0.76159416, 0.76159416, 0.76159416, 0.76159416, 0.76159416,\n",
              "       0.76159416, 0.76159416, 0.76159416, 0.76159416, 0.76159416,\n",
              "       0.76159416, 0.76159416, 0.76159416, 0.76159416, 0.76159416,\n",
              "       0.76159416, 0.76159416, 0.76159416, 0.76159416, 0.76159416,\n",
              "       0.76159416, 0.76159416, 0.76159416, 0.76159416, 0.76159416,\n",
              "       0.76159416, 0.76159416, 0.76359629, 0.76159416, 0.76159416,\n",
              "       0.76159416, 0.76159416, 0.76159416, 0.76159416, 0.76159416,\n",
              "       0.76159416, 0.76159416, 0.76159416, 0.76359629, 0.76159416,\n",
              "       0.76159416, 0.76159416, 0.76159416, 0.76159416, 0.76159416,\n",
              "       0.76159416, 0.76159416, 0.76159416, 0.76159416, 0.76159416,\n",
              "       0.76159416, 0.76159416, 0.76159416, 0.76159416, 0.76159416,\n",
              "       0.76159416, 0.76159416, 0.76159416, 0.76159416, 0.76159416,\n",
              "       0.76159416, 0.76159416, 0.76159416, 0.76159416, 0.76159416,\n",
              "       0.76159416, 0.76159416, 0.76159416, 0.76159416, 0.76159416,\n",
              "       0.76159416, 0.76159416, 0.76159416, 0.76159416, 0.76159416,\n",
              "       0.76159416, 0.76159416, 0.76159416, 0.76159416, 0.76159416,\n",
              "       0.76159416, 0.76159416, 0.76159416, 0.76159416, 0.76159416,\n",
              "       0.76159416, 0.76159416, 0.76159416, 0.76159416, 0.76159416,\n",
              "       0.76159416, 0.76159416, 0.76159416, 0.76159416, 0.76159416,\n",
              "       0.76159416, 0.76159416, 0.76159416, 0.76159416, 0.76159416,\n",
              "       0.76159416, 0.76159416, 0.76159416, 0.76159416, 0.76159416,\n",
              "       0.76159416, 0.76159416, 0.76159416, 0.76159416, 0.76159416,\n",
              "       0.76159416, 0.76159416, 0.76159416, 0.76159416, 0.76159416,\n",
              "       0.76159416, 0.76159416, 0.76159416, 0.76159416, 0.76159416,\n",
              "       0.76159416, 0.76159416, 0.76159416, 0.76159416, 0.76159416,\n",
              "       0.76159416, 0.76159416, 0.76159416, 0.76159416, 0.76159416,\n",
              "       0.76159416, 0.76159416, 0.76159416, 0.76159416, 0.76159416,\n",
              "       0.76159416, 0.76159416, 0.76159416, 0.76159416, 0.76159416,\n",
              "       0.76159416, 0.76159416, 0.76159416, 0.76159416, 0.76159416,\n",
              "       0.76159416, 0.76159416, 0.76159416, 0.76159416, 0.76159416,\n",
              "       0.76159416, 0.76159416, 0.76159416, 0.76159416, 0.76159416,\n",
              "       0.76159416, 0.76159416, 0.76159416, 0.76159416, 0.76159416,\n",
              "       0.76159416, 0.76159416, 0.76159416, 0.76159416, 0.76159416,\n",
              "       0.76159416, 0.76159416, 0.76159416, 0.76159416, 0.76159416,\n",
              "       0.76159416, 0.76159416, 0.76159416, 0.76159416, 0.76159416,\n",
              "       0.76159416, 0.76159416, 0.76159416, 0.76159416, 0.76159416,\n",
              "       0.76159416, 0.76159416, 0.76159416, 0.76159416, 0.76159416,\n",
              "       0.76159416, 0.76159416, 0.76159416, 0.76159416, 0.76159416,\n",
              "       0.76159416, 0.76159416, 0.76159416, 0.76159416, 0.76159416,\n",
              "       0.76159416, 0.76159416, 0.76159416, 0.76159416, 0.76159416,\n",
              "       0.76159416, 0.76159416, 0.76159416, 0.76159416, 0.76159416,\n",
              "       0.76159416, 0.76159416, 0.76159416, 0.76159416, 0.76159416,\n",
              "       0.76159416, 0.76159416, 0.76159416, 0.76159416, 0.76159416,\n",
              "       0.76159416, 0.76159416, 0.76159416, 0.76159416, 0.76159416,\n",
              "       0.76159416, 0.76159416, 0.76159416, 0.76159416, 0.76159416,\n",
              "       0.76159416, 0.76159416, 0.76159416, 0.76159416, 0.76159416,\n",
              "       0.76159416, 0.76159416, 0.76159416, 0.76159416, 0.76159416,\n",
              "       0.76159416, 0.76159416, 0.76159416, 0.76159416, 0.76159416,\n",
              "       0.76159416, 0.76159416, 0.76159416, 0.76159416, 0.76159416,\n",
              "       0.76159416, 0.76159416, 0.76159416, 0.76159416, 0.76159416,\n",
              "       0.76159416, 0.76159416, 0.76159416, 0.76159416, 0.76159416,\n",
              "       0.76159416, 0.76159416, 0.76159416, 0.76159416, 0.76159416,\n",
              "       0.76159416, 0.76159416, 0.76159416, 0.76159416, 0.76159416,\n",
              "       0.76159416, 0.76159416, 0.76159416, 0.76159416, 0.76159416,\n",
              "       0.76159416, 0.76159416, 0.76159416, 0.76159416, 0.76159416,\n",
              "       0.76159416, 0.76159416, 0.76159416, 0.76159416, 0.76159416,\n",
              "       0.76159416, 0.76159416, 0.76159416, 0.76159416, 0.76159416,\n",
              "       0.76159416, 0.76159416, 0.76159416, 0.76159416, 0.76159416,\n",
              "       0.76159416, 0.76159416, 0.76159416, 0.76159416, 0.76159416,\n",
              "       0.76159416, 0.76159416, 0.76159416, 0.76159416, 0.76159416,\n",
              "       0.76159416, 0.76159416, 0.76159416, 0.76159416, 0.76159416,\n",
              "       0.76159416, 0.76159416, 0.76159416, 0.76159416, 0.76159416,\n",
              "       0.76159416, 0.76159416, 0.76159416, 0.76159416, 0.76159416,\n",
              "       0.76159416, 0.76159416, 0.76159416, 0.76159416, 0.76159416,\n",
              "       0.76159416, 0.76159416, 0.76159416, 0.76159416, 0.76159416,\n",
              "       0.76159416, 0.76359629, 0.76359629, 0.76159416, 0.76159416,\n",
              "       0.76159416, 0.76159416, 0.76159416, 0.76159416, 0.76359629,\n",
              "       0.76159416, 0.76159416, 0.76159416, 0.76159416, 0.76159416,\n",
              "       0.76159416, 0.76159416, 0.76159416, 0.76159416, 0.76159416,\n",
              "       0.76159416, 0.76359629, 0.76159416, 0.76359629, 0.76159416,\n",
              "       0.76159416, 0.76159416, 0.76359629, 0.76159416, 0.76159416,\n",
              "       0.76159416, 0.76159416, 0.76359629, 0.76159416, 0.76159416,\n",
              "       0.76159416, 0.76159416, 0.76159416])"
            ]
          },
          "metadata": {
            "tags": []
          },
          "execution_count": 23
        }
      ]
    },
    {
      "cell_type": "code",
      "metadata": {
        "colab": {
          "base_uri": "https://localhost:8080/"
        },
        "id": "FIHKevU6riQF",
        "outputId": "12d711b0-f15d-4315-fc61-16437d63187c"
      },
      "source": [
        "ind=pd.Series(df['Job title']).drop_duplicates(keep='first')\n",
        "print(ind.index)"
      ],
      "execution_count": 24,
      "outputs": [
        {
          "output_type": "stream",
          "text": [
            "Int64Index([  0,   1,   2,   3,   4,   5,   6,   7,   8,  11,  12,  13,  18,\n",
            "             20,  23,  24,  27,  31,  32,  42,  45,  50,  77, 108, 124, 138,\n",
            "            146, 151, 155, 176, 185, 197, 212, 221, 227, 238, 260, 263, 264,\n",
            "            281, 291, 316, 320, 373, 378, 383, 387, 445, 463],\n",
            "           dtype='int64')\n"
          ],
          "name": "stdout"
        }
      ]
    },
    {
      "cell_type": "code",
      "metadata": {
        "id": "l7bVexXJriQG"
      },
      "source": [
        "index_=ind\n",
        "indices=pd.Series(ind.index)\n",
        "indices.index=index_"
      ],
      "execution_count": 25,
      "outputs": []
    },
    {
      "cell_type": "code",
      "metadata": {
        "colab": {
          "base_uri": "https://localhost:8080/"
        },
        "id": "26BnJTaWriQG",
        "outputId": "765cf1e4-402d-4d75-dfbc-a4561d9f7ffe"
      },
      "source": [
        "indices"
      ],
      "execution_count": 26,
      "outputs": [
        {
          "output_type": "execute_result",
          "data": {
            "text/plain": [
              "Job title\n",
              "locksmith                      0\n",
              "washing machine                1\n",
              "care taker                     2\n",
              "web developer                  3\n",
              "architect                      4\n",
              "sweeper                        5\n",
              "plumber                        6\n",
              "barber                         7\n",
              "cleaning worker                8\n",
              "app developer                 11\n",
              "pantry cook                   12\n",
              "taxi driver                   13\n",
              "shop worker                   18\n",
              "painter                       20\n",
              "truck driver                  23\n",
              "welding                       24\n",
              "beautician                    27\n",
              "accountant                    31\n",
              "truck                         32\n",
              "tester                        42\n",
              "waiter                        45\n",
              "housekeeper                   50\n",
              "electrician                   77\n",
              "baker                        108\n",
              "line cook                    124\n",
              "butcher cook                 138\n",
              "school bus truck             146\n",
              "mechanic                     151\n",
              "fish cook                    155\n",
              "broiler cook                 176\n",
              "social worker                185\n",
              "delivery boy                 197\n",
              "executive cook               212\n",
              "farmworker                   221\n",
              "kitchen manager              227\n",
              "washing machine repairing    238\n",
              "bartender                    260\n",
              "mobile repairing             263\n",
              "software architect           264\n",
              "masseur                      281\n",
              "automobile repairing         291\n",
              "tv repairing                 316\n",
              "catering manager             320\n",
              "fridge repairing             373\n",
              "yoga instructor              378\n",
              "cooler repairing             383\n",
              "fry/saute cook               387\n",
              "soup and sauce cook          445\n",
              "bus person                   463\n",
              "dtype: int64"
            ]
          },
          "metadata": {
            "tags": []
          },
          "execution_count": 26
        }
      ]
    },
    {
      "cell_type": "code",
      "metadata": {
        "id": "Bb-njKWEriQH"
      },
      "source": [
        "def give_rec(title , sig=sig):\n",
        "    try:\n",
        "        idx=indices[title]\n",
        "        sig_scores=list(enumerate(sig[idx]))\n",
        "        sig_scores=sorted(sig_scores, key=lambda x: x[1],reverse=True)\n",
        "        sig_scores=sig_scores[1:11]\n",
        "        customer_indices =[i[0] for i in sig_scores]\n",
        "        return df.iloc[customer_indices]\n",
        "        #values.sort_values(by = 'Experience' ,ascending=False)\n",
        "       # return df.iloc[customer_indices]\n",
        "        #return values.sort_values(by = 'Experience' ,ascending=False)\n",
        "    except:\n",
        "        contain_values=df[df['Job'].str.contains(title)]\n",
        "        id=contain_values.index\n",
        "        df.loc[id]\n",
        "        if len(id)<15 :\n",
        "            for j in range(0,len(id)): \n",
        "                if j==0:\n",
        "                    idx=id[j]\n",
        "                    sig_scores2=list(enumerate(sig[idx]))\n",
        "                    sig_scores2=sorted(sig_scores2, key=lambda x: x[1],reverse=True)\n",
        "                    sig_scores=sig_scores2[1:3]\n",
        "                else:\n",
        "                    idx=id[j]\n",
        "                    sig_scores2=list(enumerate(sig[idx]))\n",
        "                    sig_scores2=sorted(sig_scores2, key=lambda x: x[1],reverse=True)\n",
        "                    sig_scores=sig_scores+sig_scores2[1:3]\n",
        "        else :\n",
        "             for j in range(5,15): \n",
        "                if j==5:\n",
        "                    idx=id[j]\n",
        "                    sig_scores2=list(enumerate(sig[idx]))\n",
        "                    sig_scores2=sorted(sig_scores2, key=lambda x: x[1],reverse=True)\n",
        "                    sig_scores=sig_scores2[1:3]\n",
        "                else:\n",
        "                    idx=id[j]\n",
        "                    sig_scores2=list(enumerate(sig[idx]))\n",
        "                    sig_scores2=sorted(sig_scores2, key=lambda x: x[1],reverse=True)\n",
        "                    sig_scores=sig_scores+sig_scores2[1:3]\n",
        "        customer_indices=[i[0] for i in sig_scores]\n",
        "        print(df.iloc[customer_indices])\n",
        "       # print(value.sort_values(by = 'Experience' ,ascending=False))"
      ],
      "execution_count": 27,
      "outputs": []
    },
    {
      "cell_type": "code",
      "metadata": {
        "colab": {
          "base_uri": "https://localhost:8080/"
        },
        "id": "WdUVIpA-riQI",
        "outputId": "0f82be12-6f56-4824-b2cc-c29361062c2e"
      },
      "source": [
        "give_rec('cleaning')"
      ],
      "execution_count": 28,
      "outputs": [
        {
          "output_type": "stream",
          "text": [
            "                            Name  ...                      Job\n",
            "22             Carmelita Hadaway  ...  cleaning workercleaning\n",
            "29  Agile HR consultancy Pvt.Ltd  ...  cleaning workercleaning\n",
            "22             Carmelita Hadaway  ...  cleaning workercleaning\n",
            "29  Agile HR consultancy Pvt.Ltd  ...  cleaning workercleaning\n",
            "22             Carmelita Hadaway  ...  cleaning workercleaning\n",
            "29  Agile HR consultancy Pvt.Ltd  ...  cleaning workercleaning\n",
            "22             Carmelita Hadaway  ...  cleaning workercleaning\n",
            "29  Agile HR consultancy Pvt.Ltd  ...  cleaning workercleaning\n",
            "22             Carmelita Hadaway  ...  cleaning workercleaning\n",
            "29  Agile HR consultancy Pvt.Ltd  ...  cleaning workercleaning\n",
            "22             Carmelita Hadaway  ...  cleaning workercleaning\n",
            "29  Agile HR consultancy Pvt.Ltd  ...  cleaning workercleaning\n",
            "22             Carmelita Hadaway  ...  cleaning workercleaning\n",
            "29  Agile HR consultancy Pvt.Ltd  ...  cleaning workercleaning\n",
            "22             Carmelita Hadaway  ...  cleaning workercleaning\n",
            "29  Agile HR consultancy Pvt.Ltd  ...  cleaning workercleaning\n",
            "22             Carmelita Hadaway  ...  cleaning workercleaning\n",
            "29  Agile HR consultancy Pvt.Ltd  ...  cleaning workercleaning\n",
            "22             Carmelita Hadaway  ...  cleaning workercleaning\n",
            "29  Agile HR consultancy Pvt.Ltd  ...  cleaning workercleaning\n",
            "\n",
            "[20 rows x 5 columns]\n"
          ],
          "name": "stdout"
        }
      ]
    },
    {
      "cell_type": "code",
      "metadata": {
        "colab": {
          "base_uri": "https://localhost:8080/"
        },
        "id": "NJvlaRsZriQI",
        "outputId": "98b538d6-45ce-4870-b231-7601be7370be"
      },
      "source": [
        "give_rec('hair cutting')"
      ],
      "execution_count": 29,
      "outputs": [
        {
          "output_type": "stream",
          "text": [
            "             Name Job title        Skills         Location                 Job\n",
            "17  Ardene Widdop    barber  hair cutting            Dosso  barberhair cutting\n",
            "25      Accenture    barber  hair cutting  Skinnskatteberg  barberhair cutting\n",
            "17  Ardene Widdop    barber  hair cutting            Dosso  barberhair cutting\n",
            "25      Accenture    barber  hair cutting  Skinnskatteberg  barberhair cutting\n",
            "17  Ardene Widdop    barber  hair cutting            Dosso  barberhair cutting\n",
            "25      Accenture    barber  hair cutting  Skinnskatteberg  barberhair cutting\n",
            "17  Ardene Widdop    barber  hair cutting            Dosso  barberhair cutting\n",
            "25      Accenture    barber  hair cutting  Skinnskatteberg  barberhair cutting\n",
            "17  Ardene Widdop    barber  hair cutting            Dosso  barberhair cutting\n",
            "25      Accenture    barber  hair cutting  Skinnskatteberg  barberhair cutting\n",
            "17  Ardene Widdop    barber  hair cutting            Dosso  barberhair cutting\n",
            "25      Accenture    barber  hair cutting  Skinnskatteberg  barberhair cutting\n",
            "17  Ardene Widdop    barber  hair cutting            Dosso  barberhair cutting\n",
            "25      Accenture    barber  hair cutting  Skinnskatteberg  barberhair cutting\n",
            "17  Ardene Widdop    barber  hair cutting            Dosso  barberhair cutting\n",
            "25      Accenture    barber  hair cutting  Skinnskatteberg  barberhair cutting\n",
            "17  Ardene Widdop    barber  hair cutting            Dosso  barberhair cutting\n",
            "25      Accenture    barber  hair cutting  Skinnskatteberg  barberhair cutting\n",
            "17  Ardene Widdop    barber  hair cutting            Dosso  barberhair cutting\n",
            "25      Accenture    barber  hair cutting  Skinnskatteberg  barberhair cutting\n"
          ],
          "name": "stdout"
        }
      ]
    },
    {
      "cell_type": "code",
      "metadata": {
        "colab": {
          "base_uri": "https://localhost:8080/"
        },
        "id": "P57EqHDwriQI",
        "outputId": "6f16f0d5-825a-44fe-90d0-55da0a853959"
      },
      "source": [
        "give_rec('working in various shops')"
      ],
      "execution_count": 30,
      "outputs": [
        {
          "output_type": "stream",
          "text": [
            "              Name    Job title  ...  Location                                  Job\n",
            "47  Marty Attewill  shop worker  ...  Xiaotang  shop workerworking in various shops\n",
            "57    Sinai global  shop worker  ...   Guchang  shop workerworking in various shops\n",
            "47  Marty Attewill  shop worker  ...  Xiaotang  shop workerworking in various shops\n",
            "57    Sinai global  shop worker  ...   Guchang  shop workerworking in various shops\n",
            "47  Marty Attewill  shop worker  ...  Xiaotang  shop workerworking in various shops\n",
            "57    Sinai global  shop worker  ...   Guchang  shop workerworking in various shops\n",
            "47  Marty Attewill  shop worker  ...  Xiaotang  shop workerworking in various shops\n",
            "57    Sinai global  shop worker  ...   Guchang  shop workerworking in various shops\n",
            "47  Marty Attewill  shop worker  ...  Xiaotang  shop workerworking in various shops\n",
            "57    Sinai global  shop worker  ...   Guchang  shop workerworking in various shops\n",
            "47  Marty Attewill  shop worker  ...  Xiaotang  shop workerworking in various shops\n",
            "57    Sinai global  shop worker  ...   Guchang  shop workerworking in various shops\n",
            "47  Marty Attewill  shop worker  ...  Xiaotang  shop workerworking in various shops\n",
            "57    Sinai global  shop worker  ...   Guchang  shop workerworking in various shops\n",
            "47  Marty Attewill  shop worker  ...  Xiaotang  shop workerworking in various shops\n",
            "57    Sinai global  shop worker  ...   Guchang  shop workerworking in various shops\n",
            "47  Marty Attewill  shop worker  ...  Xiaotang  shop workerworking in various shops\n",
            "57    Sinai global  shop worker  ...   Guchang  shop workerworking in various shops\n",
            "47  Marty Attewill  shop worker  ...  Xiaotang  shop workerworking in various shops\n",
            "57    Sinai global  shop worker  ...   Guchang  shop workerworking in various shops\n",
            "\n",
            "[20 rows x 5 columns]\n"
          ],
          "name": "stdout"
        }
      ]
    },
    {
      "cell_type": "code",
      "metadata": {
        "colab": {
          "base_uri": "https://localhost:8080/"
        },
        "id": "ihkD7qFUriQJ",
        "outputId": "eb094325-9eab-4b91-fa8a-51ed9d01e429"
      },
      "source": [
        "give_rec('accounting')"
      ],
      "execution_count": 31,
      "outputs": [
        {
          "output_type": "stream",
          "text": [
            "       Name   Job title      Skills   Location                   Job\n",
            "43  premium  accountant  accounting        Ore  accountantaccounting\n",
            "72  premium  accountant  accounting  Goyang-si  accountantaccounting\n",
            "43  premium  accountant  accounting        Ore  accountantaccounting\n",
            "72  premium  accountant  accounting  Goyang-si  accountantaccounting\n",
            "43  premium  accountant  accounting        Ore  accountantaccounting\n",
            "72  premium  accountant  accounting  Goyang-si  accountantaccounting\n",
            "43  premium  accountant  accounting        Ore  accountantaccounting\n",
            "72  premium  accountant  accounting  Goyang-si  accountantaccounting\n",
            "43  premium  accountant  accounting        Ore  accountantaccounting\n",
            "72  premium  accountant  accounting  Goyang-si  accountantaccounting\n",
            "43  premium  accountant  accounting        Ore  accountantaccounting\n",
            "72  premium  accountant  accounting  Goyang-si  accountantaccounting\n",
            "43  premium  accountant  accounting        Ore  accountantaccounting\n",
            "72  premium  accountant  accounting  Goyang-si  accountantaccounting\n",
            "43  premium  accountant  accounting        Ore  accountantaccounting\n",
            "72  premium  accountant  accounting  Goyang-si  accountantaccounting\n",
            "43  premium  accountant  accounting        Ore  accountantaccounting\n",
            "72  premium  accountant  accounting  Goyang-si  accountantaccounting\n",
            "43  premium  accountant  accounting        Ore  accountantaccounting\n",
            "72  premium  accountant  accounting  Goyang-si  accountantaccounting\n"
          ],
          "name": "stdout"
        }
      ]
    },
    {
      "cell_type": "code",
      "metadata": {
        "colab": {
          "base_uri": "https://localhost:8080/"
        },
        "id": "FDCSyUrHriQJ",
        "outputId": "42234980-55c1-425d-87f9-a6099733ceab"
      },
      "source": [
        "give_rec('lock and security mechanism')"
      ],
      "execution_count": 32,
      "outputs": [
        {
          "output_type": "stream",
          "text": [
            "              Name  Job title  ...    Location                                   Job\n",
            "9    Atkins global  locksmith  ...      Wujiao  locksmithlock and security mechanism\n",
            "10  Adolph Dagnall  locksmith  ...  Tanumshede  locksmithlock and security mechanism\n",
            "9    Atkins global  locksmith  ...      Wujiao  locksmithlock and security mechanism\n",
            "10  Adolph Dagnall  locksmith  ...  Tanumshede  locksmithlock and security mechanism\n",
            "9    Atkins global  locksmith  ...      Wujiao  locksmithlock and security mechanism\n",
            "10  Adolph Dagnall  locksmith  ...  Tanumshede  locksmithlock and security mechanism\n",
            "9    Atkins global  locksmith  ...      Wujiao  locksmithlock and security mechanism\n",
            "10  Adolph Dagnall  locksmith  ...  Tanumshede  locksmithlock and security mechanism\n",
            "9    Atkins global  locksmith  ...      Wujiao  locksmithlock and security mechanism\n",
            "10  Adolph Dagnall  locksmith  ...  Tanumshede  locksmithlock and security mechanism\n",
            "9    Atkins global  locksmith  ...      Wujiao  locksmithlock and security mechanism\n",
            "10  Adolph Dagnall  locksmith  ...  Tanumshede  locksmithlock and security mechanism\n",
            "9    Atkins global  locksmith  ...      Wujiao  locksmithlock and security mechanism\n",
            "10  Adolph Dagnall  locksmith  ...  Tanumshede  locksmithlock and security mechanism\n",
            "9    Atkins global  locksmith  ...      Wujiao  locksmithlock and security mechanism\n",
            "10  Adolph Dagnall  locksmith  ...  Tanumshede  locksmithlock and security mechanism\n",
            "9    Atkins global  locksmith  ...      Wujiao  locksmithlock and security mechanism\n",
            "10  Adolph Dagnall  locksmith  ...  Tanumshede  locksmithlock and security mechanism\n",
            "9    Atkins global  locksmith  ...      Wujiao  locksmithlock and security mechanism\n",
            "10  Adolph Dagnall  locksmith  ...  Tanumshede  locksmithlock and security mechanism\n",
            "\n",
            "[20 rows x 5 columns]\n"
          ],
          "name": "stdout"
        }
      ]
    },
    {
      "cell_type": "code",
      "metadata": {
        "colab": {
          "base_uri": "https://localhost:8080/"
        },
        "id": "eXKP6ceRriQK",
        "outputId": "35921f71-7e68-48c9-d704-5ce3f89b35b6"
      },
      "source": [
        "give_rec('taking care of old people and small children')"
      ],
      "execution_count": 33,
      "outputs": [
        {
          "output_type": "stream",
          "text": [
            "                 Name  ...                                                Job\n",
            "34      Atkins global  ...  care takertaking care of old people and small ...\n",
            "41  Dorothy Scatchard  ...  care takertaking care of old people and small ...\n",
            "34      Atkins global  ...  care takertaking care of old people and small ...\n",
            "41  Dorothy Scatchard  ...  care takertaking care of old people and small ...\n",
            "34      Atkins global  ...  care takertaking care of old people and small ...\n",
            "41  Dorothy Scatchard  ...  care takertaking care of old people and small ...\n",
            "34      Atkins global  ...  care takertaking care of old people and small ...\n",
            "41  Dorothy Scatchard  ...  care takertaking care of old people and small ...\n",
            "34      Atkins global  ...  care takertaking care of old people and small ...\n",
            "41  Dorothy Scatchard  ...  care takertaking care of old people and small ...\n",
            "34      Atkins global  ...  care takertaking care of old people and small ...\n",
            "41  Dorothy Scatchard  ...  care takertaking care of old people and small ...\n",
            "34      Atkins global  ...  care takertaking care of old people and small ...\n",
            "41  Dorothy Scatchard  ...  care takertaking care of old people and small ...\n",
            "34      Atkins global  ...  care takertaking care of old people and small ...\n",
            "41  Dorothy Scatchard  ...  care takertaking care of old people and small ...\n",
            "34      Atkins global  ...  care takertaking care of old people and small ...\n",
            "41  Dorothy Scatchard  ...  care takertaking care of old people and small ...\n",
            "34      Atkins global  ...  care takertaking care of old people and small ...\n",
            "41  Dorothy Scatchard  ...  care takertaking care of old people and small ...\n",
            "\n",
            "[20 rows x 5 columns]\n"
          ],
          "name": "stdout"
        }
      ]
    },
    {
      "cell_type": "code",
      "metadata": {
        "colab": {
          "base_uri": "https://localhost:8080/"
        },
        "id": "tufOGDNNriQK",
        "outputId": "e088a8ec-b78d-44ec-aa0b-57134a57c8da"
      },
      "source": [
        "give_rec('excellent knowledge of motor technology')"
      ],
      "execution_count": 34,
      "outputs": [
        {
          "output_type": "stream",
          "text": [
            "              Name  ...                                              Job\n",
            "156  Atkins global  ...  mechanicexcellent knowledge of motor technology\n",
            "157    Kim Cattini  ...  mechanicexcellent knowledge of motor technology\n",
            "156  Atkins global  ...  mechanicexcellent knowledge of motor technology\n",
            "157    Kim Cattini  ...  mechanicexcellent knowledge of motor technology\n",
            "156  Atkins global  ...  mechanicexcellent knowledge of motor technology\n",
            "157    Kim Cattini  ...  mechanicexcellent knowledge of motor technology\n",
            "156  Atkins global  ...  mechanicexcellent knowledge of motor technology\n",
            "157    Kim Cattini  ...  mechanicexcellent knowledge of motor technology\n",
            "156  Atkins global  ...  mechanicexcellent knowledge of motor technology\n",
            "157    Kim Cattini  ...  mechanicexcellent knowledge of motor technology\n",
            "156  Atkins global  ...  mechanicexcellent knowledge of motor technology\n",
            "157    Kim Cattini  ...  mechanicexcellent knowledge of motor technology\n",
            "156  Atkins global  ...  mechanicexcellent knowledge of motor technology\n",
            "157    Kim Cattini  ...  mechanicexcellent knowledge of motor technology\n",
            "156  Atkins global  ...  mechanicexcellent knowledge of motor technology\n",
            "157    Kim Cattini  ...  mechanicexcellent knowledge of motor technology\n",
            "156  Atkins global  ...  mechanicexcellent knowledge of motor technology\n",
            "157    Kim Cattini  ...  mechanicexcellent knowledge of motor technology\n",
            "\n",
            "[18 rows x 5 columns]\n"
          ],
          "name": "stdout"
        }
      ]
    },
    {
      "cell_type": "code",
      "metadata": {
        "id": "HhfXBfncriQK"
      },
      "source": [
        ""
      ],
      "execution_count": null,
      "outputs": []
    }
  ]
}